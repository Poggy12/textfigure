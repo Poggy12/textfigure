{
 "cells": [
  {
   "cell_type": "code",
   "execution_count": 1,
   "metadata": {},
   "outputs": [],
   "source": [
    "# you-get是一个可以用命令行下载网页视频的程序，只要运行下面这段代码安装即可\n",
    "# !pip install you-get -i https://pypi.tuna.tsinghua.edu.cn/simple/"
   ]
  },
  {
   "cell_type": "code",
   "execution_count": 2,
   "metadata": {},
   "outputs": [],
   "source": [
    "import os\n",
    "import shutil\n",
    "import time\n",
    "import numpy as np\n",
    "import warnings\n",
    "from tqdm.notebook import tqdm\n",
    "\n",
    "from PIL import Image, ImageOps, ImageFilter, ImageEnhance\n",
    "import matplotlib.pyplot as plt\n",
    "from matplotlib.backends.backend_agg import FigureCanvasAgg\n",
    "import matplotlib\n",
    "\n",
    "# 防止弹出警告标志\n",
    "warnings.filterwarnings(\"ignore\")"
   ]
  },
  {
   "cell_type": "code",
   "execution_count": 3,
   "metadata": {},
   "outputs": [],
   "source": [
    "def downloadMp4(url, downloadName, downloadPath):\n",
    "    '''\n",
    "    这是下载函数\n",
    "    url表示网址\n",
    "    downloadName是不包括文件后缀的文件名\n",
    "    downloadPath是想要下载的地址\n",
    "    '''\n",
    "    os.system('you-get {} -O {} -o {} --playlist --no-caption -a'.format(\n",
    "        url, downloadName, downloadPath))"
   ]
  },
  {
   "cell_type": "code",
   "execution_count": 4,
   "metadata": {},
   "outputs": [],
   "source": [
    "def createFolder(path):\n",
    "    '''\n",
    "    path表示目标文件夹地址\n",
    "    \n",
    "    该函数将（创建并）重置该文件夹\n",
    "    '''\n",
    "    is_exists = os.path.exists(path)\n",
    "    if not is_exists:\n",
    "        os.makedirs(path)\n",
    "        print('path of {} is build'.format(path))\n",
    "    else:\n",
    "        shutil.rmtree(path)\n",
    "        os.makedirs(path)\n",
    "        print('path of {} already exist and rebuild'.format(path))"
   ]
  },
  {
   "cell_type": "code",
   "execution_count": 5,
   "metadata": {},
   "outputs": [],
   "source": [
    "def getImage(videoPath, imagePath, FPS=10, leftTime=0, rightTime=120):\n",
    "    '''\n",
    "    这是抽帧函数\n",
    "    videoPath是视频地址\n",
    "    imagePath是输出图像的文件夹\n",
    "    FPS是视频的帧率\n",
    "    leftTime是截取视频的左时间点\n",
    "    rightTime是截取视频的右时间点\n",
    "    \n",
    "    '''\n",
    "    # 建立存放输出图片的文件夹\n",
    "    createFolder(imagePath)\n",
    "\n",
    "    for img_count in tqdm(range(int(FPS * (rightTime - leftTime)))):\n",
    "        cutTime = leftTime + img_count / FPS\n",
    "        os.system('ffmpeg -i {} -f image2 -ss {} -vframes 1 {}.png'.format(\n",
    "            videoPath, str(cutTime), imagePath + '/' + str(img_count)))"
   ]
  },
  {
   "cell_type": "code",
   "execution_count": 6,
   "metadata": {},
   "outputs": [],
   "source": [
    "def img2Up(imgFile, blur=25, alpha=1.0, contrast=10):\n",
    "    '''\n",
    "    该函数将图片转换为素描并提高图像对比度\n",
    "    imgFile是输入的图片地址\n",
    "    blur是模糊参数\n",
    "    alpha是透明度参数\n",
    "    contrast是对比度参数\n",
    "    \n",
    "    该函数的输出是单通道素描对比度图片\n",
    "    '''\n",
    "\n",
    "    # 定义mixedConversion函数，可将两目标像素点按一定比例混合\n",
    "    mixedConversion = lambda a, b, alpha: min(int(a * 255 /\n",
    "                                                  (256 - b * alpha)), 255)\n",
    "\n",
    "    # 转化成img对象，将文件转成单通道灰度图\n",
    "    img1 = Image.open(imgFile).convert('L')\n",
    "\n",
    "    # 对图像灰度值进行反转，反转后的灰度值为 255 - 原始灰度值\n",
    "    img2 = img1.copy()\n",
    "    img2 = ImageOps.invert(img2)\n",
    "\n",
    "    # 将图像模糊化\n",
    "    for i in range(blur):\n",
    "        img2 = img2.filter(ImageFilter.BLUR)\n",
    "        width, height = img1.size\n",
    "\n",
    "    # 对单通道灰度图与模糊化后的图像进行混合\n",
    "    for x in range(width):\n",
    "        for y in range(height):\n",
    "            a = img1.getpixel((x, y))\n",
    "            b = img2.getpixel((x, y))\n",
    "            img1.putpixel((x, y), mixedConversion(a, b, alpha))\n",
    "\n",
    "    # 提高图像对比度操作\n",
    "    contrastEnhance = ImageEnhance.Contrast(img1)\n",
    "    imgUped = contrastEnhance.enhance(contrast)\n",
    "\n",
    "    return imgUped"
   ]
  },
  {
   "cell_type": "code",
   "execution_count": 7,
   "metadata": {},
   "outputs": [],
   "source": [
    "def toWhatChar(matrix, dotsMatrixSize=2):\n",
    "    '''\n",
    "    matrix表示转化的像素矩阵，允许输入1*1或2*2的\n",
    "    \n",
    "    dotsMatrixSize标识矩阵尺寸    \n",
    "    '''\n",
    "    if dotsMatrixSize == 2:\n",
    "        return toWhatChar4(matrix)\n",
    "    return '#' if matrix == 0 else ' '\n",
    "\n",
    "\n",
    "def toWhatChar4(matrix):\n",
    "    matrix = matrix == 0\n",
    "    if (matrix == np.array([[1, 1], [1, 1]])).all():\n",
    "        return '井'\n",
    "    if (matrix == np.array([[1, 1], [1, 0]])).all():\n",
    "        return '『'\n",
    "    if (matrix == np.array([[1, 1], [0, 1]])).all():\n",
    "        return '𠃍'\n",
    "    if (matrix == np.array([[1, 1], [0, 0]])).all():\n",
    "        return '冖'\n",
    "\n",
    "    if (matrix == np.array([[1, 0], [1, 1]])).all():\n",
    "        return '𠃊'\n",
    "    if (matrix == np.array([[1, 0], [1, 0]])).all():\n",
    "        return '纟'\n",
    "    if (matrix == np.array([[1, 0], [0, 1]])).all():\n",
    "        return '㇏'\n",
    "    if (matrix == np.array([[1, 0], [0, 0]])).all():\n",
    "        return '　'\n",
    "\n",
    "    if (matrix == np.array([[0, 1], [1, 1]])).all():\n",
    "        return '』'\n",
    "    if (matrix == np.array([[0, 1], [1, 0]])).all():\n",
    "        return '㇀'\n",
    "    if (matrix == np.array([[0, 1], [0, 1]])).all():\n",
    "        return '刂'\n",
    "    if (matrix == np.array([[0, 1], [0, 0]])).all():\n",
    "        return '　'\n",
    "\n",
    "    if (matrix == np.array([[0, 0], [1, 1]])).all():\n",
    "        return '灬'\n",
    "    if (matrix == np.array([[0, 0], [1, 0]])).all():\n",
    "        return '　'\n",
    "    if (matrix == np.array([[0, 0], [0, 1]])).all():\n",
    "        return '　'\n",
    "    if (matrix == np.array([[0, 0], [0, 0]])).all():\n",
    "        return '　'"
   ]
  },
  {
   "cell_type": "code",
   "execution_count": 8,
   "metadata": {},
   "outputs": [],
   "source": [
    "def img2txt(imgFile, txtFile, method, figuresize=100000):\n",
    "    '''\n",
    "    这是我们本次作业的主要函数，后面的imgs2txt也即重复调用该函数\n",
    "    \n",
    "    imgFile是输入的图片地址\n",
    "    txtFile是输出的文本的地址\n",
    "    method表示我们选用的方法，1表示只使用#，2表示使用16种汉字字符，3表示使用半角字符映射灰度值\n",
    "    figuresize表示目标的像素大小，之后会自动调整长宽\n",
    "    '''\n",
    "    \n",
    "    if method == 1:\n",
    "        dotsMatrixSize, ifHan = 1, True\n",
    "    elif method == 2:\n",
    "        dotsMatrixSize, ifHan = 2, True\n",
    "    else:\n",
    "        dotsMatrixSize, ifHan = 1, False\n",
    "    \n",
    "    # 用result存放转化后的txtFile文本\n",
    "    result = ''\n",
    "    \n",
    "    \n",
    "    # 存放一些使用方法3需要的参数\n",
    "    chars = 'MNHQ$OC?&>!:-; '\n",
    "    chars = chars[::-1]\n",
    "    N = len(chars)\n",
    "    step = 256 // N + 1\n",
    "\n",
    "    # 这里将图片尺寸等比缩放到指定的像素大小\n",
    "    orgWidth, orgHeight = Image.open(imgFile).convert('L').size\n",
    "    charWidth = int(np.sqrt(orgWidth / orgHeight * figuresize))\n",
    "    charHeight = int(np.sqrt(orgHeight / orgWidth * figuresize))\n",
    "\n",
    "    # 这里调用img2Up函数，并用ANTIALIAS方法调整图片尺寸，最后得到一个图片数组\n",
    "    imgArray = np.array(img2Up(imgFile).resize(\n",
    "        (charWidth * dotsMatrixSize, charHeight * dotsMatrixSize),\n",
    "        Image.ANTIALIAS))\n",
    "    \n",
    "    # 逐像素点进行转化\n",
    "    for row in range(charHeight):\n",
    "        for column in range(charWidth):\n",
    "            \n",
    "            if ifHan:\n",
    "                # 方法1和方法2使用前面toWhatChar函数指定的转换法则\n",
    "                result += toWhatChar(\n",
    "                    imgArray[row * dotsMatrixSize:(row + 1) * dotsMatrixSize,\n",
    "                             column * dotsMatrixSize:(column + 1) *\n",
    "                             dotsMatrixSize], dotsMatrixSize)\n",
    "            else:\n",
    "                # 方法3即根据灰度值进行更细分区，转化对应字符\n",
    "                result += chars[imgArray[row][column] // step]\n",
    "        result += '\\n'\n",
    "    \n",
    "    # 用file表示最后存放的文件\n",
    "    file = open(txtFile, 'w')\n",
    "    file.write(result)\n",
    "    file.close()"
   ]
  },
  {
   "cell_type": "code",
   "execution_count": 9,
   "metadata": {},
   "outputs": [],
   "source": [
    "def imgs2txt(imagePath, txtPath, method, figuresize=100000):\n",
    "    '''\n",
    "    这是一个将图片批量转成对应文本文件的函数\n",
    "    \n",
    "    imagePath是输入图像的文件夹（只能有符合前面抽帧命名的图片）\n",
    "    txtPath是输出txt的文件夹\n",
    "    \n",
    "    method表示我们选用的方法，1表示只使用#，2表示使用16种汉字字符，3表示使用半角字符映射灰度值\n",
    "    figuresize表示目标的像素大小，之后会自动调整长宽\n",
    "\n",
    "    '''\n",
    "    \n",
    "    # 建立存放输出文本文件的文件夹\n",
    "    createFolder(txtPath) \n",
    "    files = os.listdir(imagePath)   # 读入图片文件夹\n",
    "    num_png = len(files)     # 统计文件夹中的文件个数\n",
    "\n",
    "    # 批量使用img2txt进行转换\n",
    "    for img_count in tqdm(range(num_png)):\n",
    "        imgFile = imagePath + '/' + str(img_count) + '.png'\n",
    "        txtFile = txtPath + '/' + str(img_count) + '.txt'\n",
    "        img2txt(imgFile, txtFile, method, figuresize)"
   ]
  },
  {
   "cell_type": "code",
   "execution_count": 10,
   "metadata": {},
   "outputs": [],
   "source": [
    "def play(txtPath, FPS=10):\n",
    "    '''\n",
    "    该函数将在命令行中批量输出txt文件。\n",
    "    不过该函数将在play.py文件中使用，这里只做展示\n",
    "    另外为了完整表现输出结果，您需要适当调整您的命令行窗口大小、行间距和字符间距\n",
    "    \n",
    "    在命令行执行play.py时，应当采用如下格式，间隔是空格\n",
    "    “python play.py地址 txt文件夹 播放帧率”\n",
    "    如\n",
    "    “python play.py txtPath 10”\n",
    "    '''\n",
    "    files = os.listdir(txtPath)   # 读入文件夹\n",
    "    num_png = len(files)\n",
    "    \n",
    "    # 使用cat方法打印txt文件\n",
    "    for txt_count in range(num_png):\n",
    "        os.system('cat ' + txtPath + '/' +str(txt_count) + '.txt')\n",
    "        time.sleep(1.0/FPS)"
   ]
  },
  {
   "cell_type": "code",
   "execution_count": 11,
   "metadata": {},
   "outputs": [
    {
     "name": "stdout",
     "output_type": "stream",
     "text": [
      "path of imagePath already exist and rebuild\n"
     ]
    },
    {
     "data": {
      "application/vnd.jupyter.widget-view+json": {
       "model_id": "278753362e954d8d98b2e32e395cdac3",
       "version_major": 2,
       "version_minor": 0
      },
      "text/plain": [
       "HBox(children=(FloatProgress(value=0.0, max=10.0), HTML(value='')))"
      ]
     },
     "metadata": {},
     "output_type": "display_data"
    },
    {
     "name": "stdout",
     "output_type": "stream",
     "text": [
      "\n",
      "path of txtPath1 already exist and rebuild\n"
     ]
    },
    {
     "data": {
      "application/vnd.jupyter.widget-view+json": {
       "model_id": "bc7f31d5c6cc4e40b600a0d05b2dd7da",
       "version_major": 2,
       "version_minor": 0
      },
      "text/plain": [
       "HBox(children=(FloatProgress(value=0.0, max=10.0), HTML(value='')))"
      ]
     },
     "metadata": {},
     "output_type": "display_data"
    },
    {
     "name": "stdout",
     "output_type": "stream",
     "text": [
      "\n",
      "path of txtPath2 already exist and rebuild\n"
     ]
    },
    {
     "data": {
      "application/vnd.jupyter.widget-view+json": {
       "model_id": "21be72f3013f4feaa30dc6aed24253be",
       "version_major": 2,
       "version_minor": 0
      },
      "text/plain": [
       "HBox(children=(FloatProgress(value=0.0, max=10.0), HTML(value='')))"
      ]
     },
     "metadata": {},
     "output_type": "display_data"
    },
    {
     "name": "stdout",
     "output_type": "stream",
     "text": [
      "\n",
      "path of txtPath3 already exist and rebuild\n"
     ]
    },
    {
     "data": {
      "application/vnd.jupyter.widget-view+json": {
       "model_id": "1154e285e5d449fa9db694677bfa3d38",
       "version_major": 2,
       "version_minor": 0
      },
      "text/plain": [
       "HBox(children=(FloatProgress(value=0.0, max=10.0), HTML(value='')))"
      ]
     },
     "metadata": {},
     "output_type": "display_data"
    },
    {
     "name": "stdout",
     "output_type": "stream",
     "text": [
      "\n"
     ]
    }
   ],
   "source": [
    "# 配置参数\n",
    "url = 'https://www.bilibili.com/video/BV1Js411t7fm'\n",
    "downloadName = 'test'\n",
    "downloadPath = os.getcwd()\n",
    "downloadMp4(url, downloadName, downloadPath)\n",
    "# 如果您想使用本地的文件，只需在这里指定文件地址即可并注释上面的四行代码\n",
    "videoPath = downloadPath + '/' + downloadName + '.mp4'\n",
    "\n",
    "\n",
    "FPS = 0.5\n",
    "leftTime, rightTime = 0, 20  # 这里为了简便起见，这里抽取前20秒、每2秒一抽共10张图片\n",
    "imagePath = 'imagePath'\n",
    "figuresize = 100000\n",
    "\n",
    "# 抽帧函数，如果已经有现成的图片文件夹，也可以注释掉下面一行代码\n",
    "getImage(videoPath, imagePath, FPS, leftTime, rightTime)\n",
    "\n",
    "# 分别调用三种转换方法\n",
    "for method in range(1, 4):\n",
    "    txtPath = 'txtPath' + str(method)\n",
    "    imgs2txt(imagePath, txtPath, method, figuresize)"
   ]
  },
  {
   "cell_type": "code",
   "execution_count": null,
   "metadata": {},
   "outputs": [],
   "source": []
  }
 ],
 "metadata": {
  "kernelspec": {
   "display_name": "Python 3",
   "language": "python",
   "name": "python3"
  },
  "language_info": {
   "codemirror_mode": {
    "name": "ipython",
    "version": 3
   },
   "file_extension": ".py",
   "mimetype": "text/x-python",
   "name": "python",
   "nbconvert_exporter": "python",
   "pygments_lexer": "ipython3",
   "version": "3.8.3"
  },
  "toc": {
   "base_numbering": 1,
   "nav_menu": {},
   "number_sections": true,
   "sideBar": true,
   "skip_h1_title": false,
   "title_cell": "Table of Contents",
   "title_sidebar": "Contents",
   "toc_cell": false,
   "toc_position": {},
   "toc_section_display": true,
   "toc_window_display": false
  },
  "varInspector": {
   "cols": {
    "lenName": 16,
    "lenType": 16,
    "lenVar": 40
   },
   "kernels_config": {
    "python": {
     "delete_cmd_postfix": "",
     "delete_cmd_prefix": "del ",
     "library": "var_list.py",
     "varRefreshCmd": "print(var_dic_list())"
    },
    "r": {
     "delete_cmd_postfix": ") ",
     "delete_cmd_prefix": "rm(",
     "library": "var_list.r",
     "varRefreshCmd": "cat(var_dic_list()) "
    }
   },
   "types_to_exclude": [
    "module",
    "function",
    "builtin_function_or_method",
    "instance",
    "_Feature"
   ],
   "window_display": false
  }
 },
 "nbformat": 4,
 "nbformat_minor": 4
}
